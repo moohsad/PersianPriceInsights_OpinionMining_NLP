{
 "cells": [
  {
   "cell_type": "markdown",
   "metadata": {},
   "source": [
    "# PriceSense: Advanced Naive Bayes for Persian Opinion Mining\n",
    "This project uses an enhanced Naive Bayes model to detect price mentions in Persian comments from DigiKala, leveraging optimized NLP techniques."
   ]
  },
  {
   "cell_type": "markdown",
   "metadata": {},
   "source": [
    "## Dataset Overview\n",
    "- **Train**: 40,000 labeled comments (`train.csv`)\n",
    "- **Test**: 8,000 unlabeled comments (`test.csv`)\n",
    "- **Features**: `comment` (text), `price_value` (0: no price mention, 1: price mentioned)\n",
    "- **Objective**: Binary classification with advanced Naive Bayes."
   ]
  },
  {
   "cell_type": "code",
   "execution_count": 1,
   "metadata": {},
   "outputs": [],
   "source": [
    "# Import libraries\n",
    "import numpy as np\n",
    "import pandas as pd\n",
    "from pathlib import Path\n",
    "from sklearn.model_selection import train_test_split, GridSearchCV\n",
    "from sklearn.feature_extraction.text import TfidfVectorizer\n",
    "from sklearn.naive_bayes import MultinomialNB\n",
    "from sklearn.pipeline import Pipeline\n",
    "from sklearn.metrics import accuracy_score, classification_report\n",
    "from hazm import Normalizer, word_tokenize\n",
    "import string\n",
    "from tqdm import tqdm\n",
    "import re"
   ]
  },
  {
   "cell_type": "markdown",
   "metadata": {},
   "source": [
    "## Data Loading\n",
    "Load train and test datasets from CSV files."
   ]
  },
  {
   "cell_type": "code",
   "execution_count": 2,
   "metadata": {},
   "outputs": [
    {
     "data": {
      "text/html": [
       "<div>\n",
       "<style scoped>\n",
       "    .dataframe tbody tr th:only-of-type {\n",
       "        vertical-align: middle;\n",
       "    }\n",
       "\n",
       "    .dataframe tbody tr th {\n",
       "        vertical-align: top;\n",
       "    }\n",
       "\n",
       "    .dataframe thead th {\n",
       "        text-align: right;\n",
       "    }\n",
       "</style>\n",
       "<table border=\"1\" class=\"dataframe\">\n",
       "  <thead>\n",
       "    <tr style=\"text-align: right;\">\n",
       "      <th></th>\n",
       "      <th>comment</th>\n",
       "      <th>price_value</th>\n",
       "    </tr>\n",
       "  </thead>\n",
       "  <tbody>\n",
       "    <tr>\n",
       "      <th>0</th>\n",
       "      <td>قیمت مناسب وکیفیت خوب پیشنهادمیکنم حتما خرید کنید</td>\n",
       "      <td>1</td>\n",
       "    </tr>\n",
       "    <tr>\n",
       "      <th>1</th>\n",
       "      <td>به اندازه یک میلیمتر دورتادور گوشی خالی میماند...</td>\n",
       "      <td>0</td>\n",
       "    </tr>\n",
       "    <tr>\n",
       "      <th>2</th>\n",
       "      <td>از همه نظر عالی و یک خرید خوب در  قیمت حدود۴۰ ...</td>\n",
       "      <td>1</td>\n",
       "    </tr>\n",
       "    <tr>\n",
       "      <th>3</th>\n",
       "      <td>فقط یک بار هر یک ربع ساعت 1 درصد شارژ کرد بعدش...</td>\n",
       "      <td>0</td>\n",
       "    </tr>\n",
       "    <tr>\n",
       "      <th>4</th>\n",
       "      <td>قیمت این کالا خیلی تغییر میکنه . من خریدم چندر...</td>\n",
       "      <td>1</td>\n",
       "    </tr>\n",
       "  </tbody>\n",
       "</table>\n",
       "</div>"
      ],
      "text/plain": [
       "                                             comment  price_value\n",
       "0  قیمت مناسب وکیفیت خوب پیشنهادمیکنم حتما خرید کنید            1\n",
       "1  به اندازه یک میلیمتر دورتادور گوشی خالی میماند...            0\n",
       "2  از همه نظر عالی و یک خرید خوب در  قیمت حدود۴۰ ...            1\n",
       "3  فقط یک بار هر یک ربع ساعت 1 درصد شارژ کرد بعدش...            0\n",
       "4  قیمت این کالا خیلی تغییر میکنه . من خریدم چندر...            1"
      ]
     },
     "execution_count": 2,
     "metadata": {},
     "output_type": "execute_result"
    }
   ],
   "source": [
    "data_dir = Path('../data')\n",
    "train_data = pd.read_csv(data_dir / 'train.csv')\n",
    "test_data = pd.read_csv(data_dir / 'test.csv')\n",
    "train_data.head()"
   ]
  },
  {
   "cell_type": "markdown",
   "metadata": {},
   "source": [
    "## Preprocessing\n",
    "### Custom Stopwords\n",
    "Define a custom stopwords list, excluding price-related terms like 'با' or 'در'."
   ]
  },
  {
   "cell_type": "code",
   "execution_count": 3,
   "metadata": {},
   "outputs": [
    {
     "name": "stderr",
     "output_type": "stream",
     "text": [
      "100%|██████████| 40000/40000 [00:16<00:00, 2435.45it/s]\n",
      "100%|██████████| 8000/8000 [00:02<00:00, 2857.59it/s]\n"
     ]
    }
   ],
   "source": [
    "from hazm import stopwords_list\n",
    "\n",
    "base_stopwords = set(stopwords_list())\n",
    "price_related = {'با', 'در', 'به', 'از'}\n",
    "custom_stopwords = base_stopwords - price_related\n",
    "\n",
    "normalizer = Normalizer()\n",
    "\n",
    "def preprocess_text(text):\n",
    "    # Replace numbers with 'NUMBER' token\n",
    "    text = re.sub(r'\\d+', 'NUMBER', text)\n",
    "    # Remove punctuation and normalize\n",
    "    text = text.translate(str.maketrans('', '', string.punctuation))\n",
    "    text = normalizer.normalize(text)\n",
    "    # Remove extra whitespace and special characters\n",
    "    text = text.replace('\\n', ' ').replace('\\r', ' ').strip()\n",
    "    # Tokenize\n",
    "    tokens = word_tokenize(text)\n",
    "    # Filter stopwords\n",
    "    filtered = [token for token in tokens if token not in custom_stopwords]\n",
    "    return ' '.join(filtered)\n",
    "\n",
    "# Preprocess all data once\n",
    "tqdm.pandas()\n",
    "train_data['processed'] = train_data['comment'].progress_apply(preprocess_text)\n",
    "test_data['processed'] = test_data['comment'].progress_apply(preprocess_text)"
   ]
  },
  {
   "cell_type": "markdown",
   "metadata": {},
   "source": [
    "## Feature Engineering\n",
    "- Use TF-IDF with unigrams and bigrams for richer features.\n",
    "- Limit vocabulary to 10,000 terms to balance noise and information."
   ]
  },
  {
   "cell_type": "markdown",
   "metadata": {},
   "source": [
    "## Model Training\n",
    "- Split train data into train/validation (80/20).\n",
    "- Use Multinomial Naive Bayes with TF-IDF in a Pipeline.\n",
    "- Tune alpha with GridSearchCV."
   ]
  },
  {
   "cell_type": "code",
   "execution_count": 4,
   "metadata": {},
   "outputs": [
    {
     "name": "stdout",
     "output_type": "stream",
     "text": [
      "Best Parameters: {'nb__alpha': 1.0, 'tfidf__max_features': 5000}\n",
      "Best CV Accuracy: 0.8473\n",
      "Validation Accuracy: 0.8460\n",
      "              precision    recall  f1-score   support\n",
      "\n",
      "           0       0.83      0.89      0.86      4160\n",
      "           1       0.87      0.80      0.83      3840\n",
      "\n",
      "    accuracy                           0.85      8000\n",
      "   macro avg       0.85      0.84      0.85      8000\n",
      "weighted avg       0.85      0.85      0.85      8000\n",
      "\n"
     ]
    }
   ],
   "source": [
    "# Split data\n",
    "X = train_data['processed']\n",
    "y = train_data['price_value']\n",
    "X_train, X_val, y_train, y_val = train_test_split(X, y, test_size=0.2, random_state=42, stratify=y)\n",
    "\n",
    "# Define Pipeline\n",
    "pipeline = Pipeline([\n",
    "    ('tfidf', TfidfVectorizer(max_features=10000, ngram_range=(1, 2))),\n",
    "    ('nb', MultinomialNB())\n",
    "])\n",
    "\n",
    "# Hyperparameter tuning\n",
    "param_grid = {\n",
    "    'tfidf__max_features': [5000, 10000],\n",
    "    'nb__alpha': [0.1, 0.5, 1.0]\n",
    "}\n",
    "grid_search = GridSearchCV(pipeline, param_grid, cv=5, scoring='accuracy', n_jobs=-1)\n",
    "grid_search.fit(X_train, y_train)\n",
    "\n",
    "# Best model\n",
    "best_model = grid_search.best_estimator_\n",
    "print(f'Best Parameters: {grid_search.best_params_}')\n",
    "print(f'Best CV Accuracy: {grid_search.best_score_:.4f}')\n",
    "\n",
    "# Evaluate on validation set\n",
    "y_val_pred = best_model.predict(X_val)\n",
    "val_accuracy = accuracy_score(y_val, y_val_pred)\n",
    "print(f'Validation Accuracy: {val_accuracy:.4f}')\n",
    "print(classification_report(y_val, y_val_pred))"
   ]
  },
  {
   "cell_type": "markdown",
   "metadata": {},
   "source": [
    "## Prediction and Submission\n",
    "- Predict on test data.\n",
    "- Save results in submission.csv."
   ]
  },
  {
   "cell_type": "code",
   "execution_count": null,
   "metadata": {},
   "outputs": [],
   "source": [
    "# Predict on test data\n",
    "X_test = test_data['processed']\n",
    "test_pred = best_model.predict(X_test)\n",
    "submission = pd.DataFrame({'price_value': test_pred})\n",
    "submission.to_csv('submission.csv', index=False)\n",
    "submission.head()"
   ]
  },
  {
   "cell_type": "markdown",
   "metadata": {},
   "source": [
    "## Save Outputs\n",
    "- Save model and submission in a zip file."
   ]
  },
  {
   "cell_type": "code",
   "execution_count": null,
   "metadata": {},
   "outputs": [],
   "source": [
    "import joblib\n",
    "import zipfile\n",
    "\n",
    "# Save model\n",
    "joblib.dump(best_model, 'pricesense_model.pkl')\n",
    "\n",
    "# Compress files\n",
    "output_dir = Path('outputs')\n",
    "output_dir.mkdir(exist_ok=True)\n",
    "files = ['pricesense_model.pkl', 'submission.csv', 'pricesense.ipynb']\n",
    "with zipfile.ZipFile(output_dir / 'result.zip', 'w', compression=zipfile.ZIP_DEFLATED) as zf:\n",
    "    for file in files:\n",
    "        zf.write(file, file)\n",
    "print('Outputs saved in result.zip')"
   ]
  }
 ],
 "metadata": {
  "kernelspec": {
   "display_name": "Python 3 (ipykernel)",
   "language": "python",
   "name": "python3"
  },
  "language_info": {
   "codemirror_mode": {
    "name": "ipython",
    "version": 3
   },
   "file_extension": ".py",
   "mimetype": "text/x-python",
   "name": "python",
   "nbconvert_exporter": "python",
   "pygments_lexer": "ipython3",
   "version": "3.10.5"
  }
 },
 "nbformat": 4,
 "nbformat_minor": 5
}
